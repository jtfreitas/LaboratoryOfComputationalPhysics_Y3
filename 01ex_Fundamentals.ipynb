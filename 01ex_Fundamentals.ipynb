{
 "cells": [
  {
   "cell_type": "markdown",
   "metadata": {},
   "source": [
    "1\\. Write the following as a list comprehension"
   ]
  },
  {
   "cell_type": "code",
   "execution_count": 1,
   "metadata": {},
   "outputs": [
    {
     "name": "stdout",
     "output_type": "stream",
     "text": [
      "[(0, 0), (0, 1), (0, 2), (0, 3), (1, 0), (1, 1), (1, 2), (1, 3), (2, 0), (2, 1), (2, 2), (2, 3)]\n",
      "[(0, 0), (0, 1), (0, 2), (0, 3), (1, 0), (1, 1), (1, 2), (1, 3), (2, 0), (2, 1), (2, 2), (2, 3)]\n",
      "True\n",
      "[0, 4, 16]\n",
      "[0, 4, 16]\n",
      "True\n"
     ]
    }
   ],
   "source": [
    "# 1\n",
    "ans = []\n",
    "for i in range(3):\n",
    "    for j in range(4):\n",
    "        ans.append((i, j))\n",
    "print (ans)\n",
    "\n",
    "ans1 = [(i,j) for i in range(3) for j in range(4)]\n",
    "print(ans1)\n",
    "\n",
    "print(ans == ans1) # will return True if the two lists are equal\n",
    "\n",
    "\n",
    "# 2\n",
    "\n",
    "ans = list(map(lambda x: x*x, filter(lambda x: x%2 == 0, range(5))))\n",
    "print(ans)\n",
    "\n",
    "ans2 = [i**2 for i in range(5) if i % 2 == 0]\n",
    "print(ans2)\n",
    "\n",
    "print(ans == ans2) # will return True if the two lists are equal"
   ]
  },
  {
   "cell_type": "markdown",
   "metadata": {},
   "source": [
    "2\\. Convert the following function into a pure function with no global variables or side effects"
   ]
  },
  {
   "cell_type": "code",
   "execution_count": 2,
   "metadata": {},
   "outputs": [
    {
     "name": "stdout",
     "output_type": "stream",
     "text": [
      "[1, 2, 3, 0, 1, 2, 3, 4]\n",
      "[1, 2, 3]\n"
     ]
    }
   ],
   "source": [
    "x = 5\n",
    "\n",
    "\n",
    "# def f(alist):\n",
    "#     for i in range(x):\n",
    "#          alist.append(i)\n",
    "#     return alist\n",
    "\n",
    "# I commented out the initial function.\n",
    "\n",
    "def f(alist):\n",
    "    ans = [i for i in range(x)]\n",
    "    return alist+ans\n",
    "\n",
    "alist = [1,2,3]\n",
    "ans = f(alist)\n",
    "print (ans)\n",
    "\n",
    "print (alist) # alist has NOT been changed!"
   ]
  },
  {
   "cell_type": "markdown",
   "metadata": {},
   "source": [
    "3\\. Write a `decorator` hello that makes every wrapped function print “Hello!”, i.e. something like:\n",
    "\n",
    "```python\n",
    "@hello\n",
    "def square(x):\n",
    "    return x*x\n",
    "```\n",
    "\n"
   ]
  },
  {
   "cell_type": "code",
   "execution_count": 3,
   "metadata": {},
   "outputs": [
    {
     "name": "stdout",
     "output_type": "stream",
     "text": [
      "Hello!\n",
      "25\n"
     ]
    }
   ],
   "source": [
    "def decorate(func):\n",
    "    def greet_the_humans(*args, **kwargs):\n",
    "        print('Hello!')\n",
    "        func(*args, **kwargs)\n",
    "        return func(*args, **kwargs)\n",
    "    return greet_the_humans\n",
    "\n",
    "@decorate\n",
    "def square(x):\n",
    "    return x*x\n",
    "\n",
    "square = square(5)\n",
    "print(square)"
   ]
  },
  {
   "cell_type": "markdown",
   "metadata": {},
   "source": [
    "4\\. Write the factorial function so that it a) does and b) does not use recursion."
   ]
  },
  {
   "cell_type": "markdown",
   "metadata": {},
   "source": [
    "##### a) Recursion"
   ]
  },
  {
   "cell_type": "code",
   "execution_count": 4,
   "metadata": {},
   "outputs": [
    {
     "name": "stdout",
     "output_type": "stream",
     "text": [
      "[1, 1, 2, 6, 24, 120, 720, 5040, 40320, 362880]\n"
     ]
    }
   ],
   "source": [
    "def factorial_rec(n):\n",
    "    if n == 0:\n",
    "        return 1\n",
    "    else:\n",
    "        return n * factorial_rec(n-1)\n",
    "    \n",
    "print([factorial_rec(i) for i in range(10)])"
   ]
  },
  {
   "cell_type": "markdown",
   "metadata": {},
   "source": [
    "##### b) No Recursion"
   ]
  },
  {
   "cell_type": "code",
   "execution_count": 5,
   "metadata": {},
   "outputs": [
    {
     "name": "stdout",
     "output_type": "stream",
     "text": [
      "[1, 1, 2, 6, 24, 120, 720, 5040, 40320, 362880, 3628800, 39916800, 479001600, 6227020800, 87178291200, 1307674368000, 20922789888000, 355687428096000, 6402373705728000, 121645100408832000]\n"
     ]
    }
   ],
   "source": [
    "def good_factorial(n):\n",
    "    if n == 0:\n",
    "        return 1\n",
    "    else:\n",
    "        factorial = n\n",
    "        for i in range(1,n):\n",
    "            factorial *= n - i\n",
    "        return factorial\n",
    "    \n",
    "print([good_factorial(i) for i in range(20)])"
   ]
  },
  {
   "cell_type": "markdown",
   "metadata": {},
   "source": [
    "5\\. Use HOFs (zip in particular) to compute the weight of a circle, a disk and a sphere, assuming different radii and different densities:\n",
    "\n",
    "```python\n",
    "densities = {\"Al\":[0.5,1,2],\"Fe\":[3,4,5],\"Pb\": [15,20,30]}\n",
    "radii = [1,2,3]\n",
    "```\n",
    "\n",
    "where the entries of the dictionary's values are the linear, superficial and volumetric densities of the materials respectively.\n",
    "\n",
    "In particular define a list of three lambda functions using a comprehension that computes the circumference, the area and the volume for a given radius.\n"
   ]
  },
  {
   "cell_type": "code",
   "execution_count": 9,
   "metadata": {},
   "outputs": [
    {
     "name": "stdout",
     "output_type": "stream",
     "text": [
      "The circles: {'Al': [12.6, 25.1, 37.7], 'Fe': [31.4, 62.8, 94.2], 'Pb': [188.5, 377.0, 565.5]}\n",
      "The disks: {'Al': [6.3, 25.1, 56.5], 'Fe': [15.7, 62.8, 141.4], 'Pb': [94.2, 377.0, 848.2]}\n",
      "The spheres: {'Al': [8.4, 67.0, 226.2], 'Fe': [20.9, 167.6, 565.5], 'Pb': [125.7, 1005.3, 3392.9]}\n"
     ]
    }
   ],
   "source": [
    "import numpy as np\n",
    "\n",
    "densities = {\"Al\":[0.5,1,2],\"Fe\":[3,4,5],\"Pb\": [15,20,30]}\n",
    "radius = [1,2,3]\n",
    "\n",
    "perimeter, area, volume = list(map(lambda radius: 2*np.pi*radius, radius)), list(map(lambda radius: np.pi*radius**2, radius)), list(map(lambda radius: 4/3*np.pi*radius**3, radius))\n",
    "\n",
    "for i, j, k in zip(densities[\"Al\"], densities[\"Fe\"], densities[\"Pb\"]):\n",
    "    circle_weight = {\"Al\":[round(length*i,1) for length in perimeter], \"Fe\":[round(length*j,1) for length in perimeter], \"Pb\":[round(length*k,1) for length in perimeter]}\n",
    "    \n",
    "    disk_weight = {\"Al\":[round(i*areas,1) for areas in area], \"Fe\":[round(j*areas,1) for areas in area], \"Pb\":[round(k*areas,1) for areas in area]}\n",
    "    \n",
    "    sphere_weight = {\"Al\":[round(i*volumes,1) for volumes in volume], \"Fe\":[round(j*volumes,1) for volumes in volume], \"Pb\":[round(k*volumes,1) for volumes in volume]}\n",
    "\n",
    "    \n",
    "print(\"The circles:\", circle_weight)\n",
    "print(\"The disks:\", disk_weight)\n",
    "print(\"The spheres:\", sphere_weight)"
   ]
  },
  {
   "cell_type": "markdown",
   "metadata": {},
   "source": [
    "6\\. Edit the class defintion to add an instance attribute of is_hungry = True to the Dog class. Then add a method called eat() which changes the value of is_hungry to False when called. Figure out the best way to feed each dog and then output “My dogs are hungry.” if all are hungry or “My dogs are not hungry.” if all are not hungry. The final output should look like this:\n",
    "\n",
    "`I have 3 dogs. \n",
    "Tom is 6. \n",
    "Fletcher is 7. \n",
    "Larry is 9. \n",
    "And they're all mammals, of course. \n",
    "My dogs are not hungry.1\n",
    "`\n",
    "\n",
    "```python\n",
    "# Parent class\n",
    "class Dog:\n",
    "\n",
    "    # Class attribute\n",
    "    species = 'mammal'\n",
    "\n",
    "    # Initializer / Instance attributes\n",
    "    def __init__(self, name, age):\n",
    "        self.name = name\n",
    "        self.age = age\n",
    "\n",
    "    # instance method\n",
    "    def description(self):\n",
    "        return \"{} is {} years old\".format(self.name, self.age)\n",
    "\n",
    "    # instance method\n",
    "    def speak(self, sound):\n",
    "        return \"{} says {}\".format(self.name, sound)\n",
    "\n",
    "# Child class (inherits from Dog class)\n",
    "class RussellTerrier(Dog):\n",
    "    def run(self, speed):\n",
    "        return \"{} runs {}\".format(self.name, speed)\n",
    "\n",
    "# Child class (inherits from Dog class)\n",
    "class Bulldog(Dog):\n",
    "    def run(self, speed):\n",
    "        return \"{} runs {}\".format(self.name, speed)\n",
    "```"
   ]
  },
  {
   "cell_type": "code",
   "execution_count": 7,
   "metadata": {},
   "outputs": [],
   "source": [
    "class Dog:\n",
    "\n",
    "    # Class attribute\n",
    "    species = 'mammal'\n",
    "\n",
    "    # Initializer / Instance attributes\n",
    "    def __init__(self, name, age):\n",
    "        self.name = name\n",
    "        self.age = age\n",
    "        self.is_hungry = True\n",
    "        \n",
    "    # instance method\n",
    "    def description(self):\n",
    "        return \"{} is {} years old\".format(self.name, self.age)\n",
    "\n",
    "    \n",
    "    def hungry(self):\n",
    "        if self.is_hungry == True:\n",
    "            print(\"{} is quite hungry\".format(self.name))\n",
    "        \n",
    "    # instance method\n",
    "    def speak(self, sound):\n",
    "        return \"{} says {}\".format(self.name, sound)\n",
    "\n",
    "    # instance method\n",
    "    def feed(self):\n",
    "        self.is_hungry = False\n",
    "    \n",
    "    \n",
    "    \n",
    "# Child class (inherits from Dog class)\n",
    "class RussellTerrier(Dog):\n",
    "    \n",
    "    breed = \"Russell Terrier\"\n",
    "    \n",
    "    def run(self, speed):\n",
    "        return \"{} runs {}\".format(self.name, speed)\n",
    "\n",
    "# Child class (inherits from Dog class)\n",
    "class Bulldog(Dog):\n",
    "    \n",
    "    breed = \"Bull Dog\"\n",
    "        \n",
    "    def run(self, speed):\n",
    "        return \"{} runs {}\".format(self.name, speed)"
   ]
  },
  {
   "cell_type": "code",
   "execution_count": 8,
   "metadata": {},
   "outputs": [
    {
     "name": "stdout",
     "output_type": "stream",
     "text": [
      "I own 2 dogs\n",
      "\n",
      "\n",
      "Gatto is 10 years old\n",
      "Gatto is a Bull Dog\n",
      "\n",
      "\n",
      "Cane is 6 years old\n",
      "Cane is a Russell Terrier\n",
      "\n",
      "\n",
      "Gatto is quite hungry\n",
      "Cane is quite hungry\n",
      "\n",
      "All my dogs are hungry. Let's feed them\n",
      "I just fed Gatto\n",
      "I just fed Cane\n",
      "Now all my dogs are fed\n",
      "\n",
      "\n",
      "My dogs aren't hungry\n",
      "\n",
      "\n",
      "Only one of my dogs is hungry. He'll have to wait.\n"
     ]
    }
   ],
   "source": [
    "x = [Bulldog(\"Gatto\", 10), RussellTerrier(\"Cane\", 6)]\n",
    "print(\"I own {} dogs\".format(len(x)))\n",
    "print(\"\\n\")\n",
    "\n",
    "for i in range(len(x)):\n",
    "    print(x[i].description())\n",
    "    print(\"{} is a {}\".format(x[i].name, x[i].breed))\n",
    "    print(\"\\n\")\n",
    "\n",
    "\n",
    "def feed_the_dogs():\n",
    "    \n",
    "    if all(x[i].is_hungry == True for i in range(len(x))) == True:\n",
    "        for i in range(len(x)):\n",
    "            x[i].hungry()\n",
    "        print(\"\\nAll my dogs are hungry. Let's feed them\")\n",
    "\n",
    "        for i in range(len(x)):\n",
    "            x[i].feed()\n",
    "            print(\"I just fed {}\".format(x[i].name))\n",
    "        print(\"Now all my dogs are fed\")\n",
    "\n",
    "    elif all(x[i].is_hungry == False for i in range(len(x))) == True:\n",
    "        print(\"My dogs aren't hungry\")\n",
    "    else:\n",
    "        print(\"Only one of my dogs is hungry. He'll have to wait.\")\n",
    "    \n",
    "# feed_the_dogs() changes the is_hungry flag to False for both dogs in x[i] if x[i].is_hungry == True for BOTH dogs. If, at the time we execute feed_the_dogs(), only one of them has the flag is_hungry == True, then it's the else command executing.\n",
    "\n",
    "#To exemplify, I'll execute the command with both x[i].is_hungry == True to execute the \"if\" part. Then I'll execute the command again, which should run the \"elif\" part (because both is_hungry flags are False.) \n",
    "#Finally I'll change one of the flags of x[i].is_hungry back to True, and execute the command one more time, which should execute the \"else\" part (since there will be both a True and a False flag.)\n",
    "    \n",
    "feed_the_dogs()\n",
    "print(\"\\n\")\n",
    "feed_the_dogs()\n",
    "print(\"\\n\")\n",
    "x[0].is_hungry = True\n",
    "\n",
    "feed_the_dogs()\n"
   ]
  }
 ],
 "metadata": {
  "kernelspec": {
   "display_name": "Python 3",
   "language": "python",
   "name": "python3"
  },
  "language_info": {
   "codemirror_mode": {
    "name": "ipython",
    "version": 3
   },
   "file_extension": ".py",
   "mimetype": "text/x-python",
   "name": "python",
   "nbconvert_exporter": "python",
   "pygments_lexer": "ipython3",
<<<<<<< HEAD
<<<<<<< HEAD
   "version": "3.8.5"
=======
   "version": "3.7.6"
>>>>>>> upstream/master
=======
   "version": "3.5.4"
>>>>>>> upstream/master
  }
 },
 "nbformat": 4,
 "nbformat_minor": 2
}
