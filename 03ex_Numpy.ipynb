{
 "cells": [
  {
   "cell_type": "markdown",
   "metadata": {},
   "source": [
    "### Numpy basics"
   ]
  },
  {
   "cell_type": "markdown",
   "metadata": {},
   "source": [
    "1\\. Find the row, column and overall means for the following matrix:\n",
    "\n",
    "```python\n",
    "m = np.arange(12).reshape((3,4))\n",
    "```"
   ]
  },
  {
   "cell_type": "code",
   "execution_count": 62,
   "metadata": {},
   "outputs": [
    {
     "name": "stdout",
     "output_type": "stream",
     "text": [
      "The overall mean is  5.5\n",
      "\n",
      "\n",
      "The mean of row 1 is 1.5\n",
      "The mean of row 2 is 5.5\n",
      "The mean of row 3 is 9.5\n",
      "\n",
      "\n",
      "The mean of column 1 is 4.0\n",
      "The mean of column 2 is 5.0\n",
      "The mean of column 3 is 6.0\n",
      "The mean of column 4 is 7.0\n"
     ]
    }
   ],
   "source": [
    "import numpy as np\n",
    "m = np.arange(12).reshape((3,4))\n",
    "\n",
    "# overall mean\n",
    "print(\"The overall mean is \",np.mean(m))\n",
    "print(\"\\n\")\n",
    "\n",
    "# mean of each row\n",
    "row_mean = np.zeros(m.shape[0])\n",
    "for i in range(m.shape[0]):\n",
    "    row_mean[i] = np.mean(m[i])\n",
    "    print(\"The mean of row {} is {}\".format(i+1, row_mean[i]))\n",
    "print(\"\\n\")\n",
    "\n",
    "# mean of each column\n",
    "column_mean = np.zeros(m.shape[1]) \n",
    "for i in range(m.shape[1]):\n",
    "    column_mean[i] = np.mean(m[:,i])\n",
    "    print(\"The mean of column {} is {}\".format(i+1, column_mean[i]))\n"
   ]
  },
  {
   "cell_type": "markdown",
   "metadata": {},
   "source": [
    "2\\. Find the outer product of the following two vecotrs\n",
    "\n",
    "```python\n",
    "u = np.array([1,3,5,7])\n",
    "v = np.array([2,4,6,8])\n",
    "```\n",
    "\n",
    "Do this in the following ways:\n",
    "\n",
    "   * Using the function outer in numpy\n",
    "   * Using a nested for loop or list comprehension\n",
    "   * Using numpy broadcasting operatoins\n"
   ]
  },
  {
   "cell_type": "code",
   "execution_count": 86,
   "metadata": {},
   "outputs": [
    {
     "name": "stdout",
     "output_type": "stream",
     "text": [
      "Using np.outer()\n",
      " [[ 2  4  6  8]\n",
      " [ 6 12 18 24]\n",
      " [10 20 30 40]\n",
      " [14 28 42 56]] \n",
      "\n",
      "Using a list comprehension \n",
      " [[ 2  4  6  8]\n",
      " [ 6 12 18 24]\n",
      " [10 20 30 40]\n",
      " [14 28 42 56]] \n",
      "\n",
      "Using broadcasting \n",
      " [[ 2  4  6  8]\n",
      " [ 6 12 18 24]\n",
      " [10 20 30 40]\n",
      " [14 28 42 56]]\n"
     ]
    }
   ],
   "source": [
    "u = np.array([1,3,5,7])\n",
    "v = np.array([2,4,6,8])\n",
    "\n",
    "# with np.outer()\n",
    "uv_outer1 = np.outer(u,v)\n",
    "print(\"Using np.outer()\\n\",uv_outer1,\"\\n\")\n",
    "\n",
    "# with a list comprehension\n",
    "\n",
    "uv_outer2 = np.reshape(np.array([i*j for i in u for j in v]),(len(u),len(v)))\n",
    "print(\"Using a list comprehension \\n\",uv_outer2,\"\\n\")\n",
    "\n",
    "# with broadcasting\n",
    "\n",
    "uv_outer3 = np.tile(u,(4,1)).T*v\n",
    "print(\"Using broadcasting \\n\",uv_outer3)"
   ]
  },
  {
   "cell_type": "markdown",
   "metadata": {},
   "source": [
    "3\\. Create a 10 by 6 matrix of random uniform numbers. Set all rows with any entry less than 0.1 to be zero\n",
    "\n",
    "Hint: Use the following numpy functions - np.random.random, np.any as well as Boolean indexing and the axis argument."
   ]
  },
  {
   "cell_type": "code",
   "execution_count": 159,
   "metadata": {},
   "outputs": [
    {
     "name": "stdout",
     "output_type": "stream",
     "text": [
      "10\n",
      "True\n",
      "[[0.922 0.883 0.051 0.775 0.106 0.905]\n",
      " [0.588 0.988 0.429 0.63  0.776 0.26 ]\n",
      " [0.639 0.827 0.521 0.424 0.531 0.946]\n",
      " [0.999 0.671 0.79  0.982 0.142 0.026]\n",
      " [0.746 0.617 0.099 0.522 0.507 0.286]\n",
      " [0.248 0.18  0.584 0.154 0.712 0.859]\n",
      " [0.686 0.265 0.397 0.513 0.344 0.546]\n",
      " [0.686 0.3   0.215 0.788 0.776 0.042]\n",
      " [0.645 0.128 0.548 0.292 0.826 0.097]\n",
      " [0.898 0.342 0.132 0.458 0.084 0.74 ]]\n",
      "\n",
      "\n",
      "[[0.    0.    0.    0.    0.    0.   ]\n",
      " [0.588 0.988 0.429 0.63  0.776 0.26 ]\n",
      " [0.639 0.827 0.521 0.424 0.531 0.946]\n",
      " [0.    0.    0.    0.    0.    0.   ]\n",
      " [0.    0.    0.    0.    0.    0.   ]\n",
      " [0.248 0.18  0.584 0.154 0.712 0.859]\n",
      " [0.686 0.265 0.397 0.513 0.344 0.546]\n",
      " [0.    0.    0.    0.    0.    0.   ]\n",
      " [0.    0.    0.    0.    0.    0.   ]\n",
      " [0.    0.    0.    0.    0.    0.   ]]\n"
     ]
    }
   ],
   "source": [
    "#np.random.seed(12)\n",
    "random_set = np.round(np.random.random(60), 3) # using np.round for readibility of the output, but it won't affect creating the matrix at all, since the floats are more precise than 0.1\n",
    "\n",
    "random_matrix = np.reshape(random_set,(10,6))  #reshape the set into the 10x6 matrix.\n",
    "matrix_mask = random_matrix >= 0.1             #create the boolean mask\n",
    "\n",
    "\n",
    "matrix = np.array([random_matrix[i] if np.all(matrix_mask[i]) == True else np.zeros(len(random_matrix[i])) for i in range(random_matrix.shape[0])])                #the sauce of the problem: a row of matrix is only the same as a row of random_matrix if all the entries of that row are >= 0.1. If not, then the corresponding row is filled up with zeros.\n",
    "\n",
    "\n",
    "print(random_matrix)  # printing the initial matrix just for comparison\n",
    "print(\"\\n\")\n",
    "print(matrix)"
   ]
  },
  {
   "cell_type": "markdown",
   "metadata": {},
   "source": [
    "4\\. Use np.linspace to create an array of 100 numbers between 0 and 2π (includsive).\n",
    "\n",
    "  * Extract every 10th element using slice notation\n",
    "  * Reverse the array using slice notation\n",
    "  * Extract elements where the absolute difference between the sine and cosine functions evaluated at that element is less than 0.1\n",
    "  * Make a plot showing the sin and cos functions and indicate where they are close"
   ]
  },
  {
   "cell_type": "code",
   "execution_count": 181,
   "metadata": {},
   "outputs": [
    {
     "data": {
      "image/png": "[encoded data removed]",
      "text/plain": [
       "<Figure size 432x288 with 1 Axes>"
      ]
     },
     "metadata": {
      "needs_background": "light"
     },
     "output_type": "display_data"
    }
   ],
   "source": [
    "import matplotlib.pyplot as plt\n",
    "%matplotlib inline \n",
    "\n",
    "pie_array = np.linspace(0, 2*np.pi, 100, endpoint = True)\n",
    "pie_array_10s = pie_array[0:100:10]\n",
    "\n",
    "flipped_pie = pie_array[::-1]\n",
    "\n",
    "small_difference_mask = abs(np.sin(pie_array)-np.cos(pie_array)) < 0.1\n",
    "small_difference = pie_array[small_difference_mask]\n",
    "\n",
    "plt.plot(pie_array, np.sin(pie_array), \"b-\", label = \"sine\")\n",
    "plt.plot(pie_array, np.cos(pie_array), \"r-\", label = \"cosine\")\n",
    "plt.plot(small_difference, np.sin(small_difference), \"go\", label = \"close points\")\n",
    "plt.legend()\n",
    "plt.show()"
   ]
  },
  {
   "cell_type": "markdown",
   "metadata": {},
   "source": [
    "5\\. Create a matrix that shows the 10 by 10 multiplication table.\n",
    "\n",
    " * Find the trace of the matrix\n",
    " * Extract the anto-diagonal (this should be ```array([10, 18, 24, 28, 30, 30, 28, 24, 18, 10])```)\n",
    " * Extract the diagnoal offset by 1 upwards (this should be ```array([ 2,  6, 12, 20, 30, 42, 56, 72, 90])```)"
   ]
  },
  {
   "cell_type": "code",
   "execution_count": 204,
   "metadata": {},
   "outputs": [
    {
     "name": "stdout",
     "output_type": "stream",
     "text": [
      "[[  1   2   3   4   5   6   7   8   9  10]\n",
      " [  2   4   6   8  10  12  14  16  18  20]\n",
      " [  3   6   9  12  15  18  21  24  27  30]\n",
      " [  4   8  12  16  20  24  28  32  36  40]\n",
      " [  5  10  15  20  25  30  35  40  45  50]\n",
      " [  6  12  18  24  30  36  42  48  54  60]\n",
      " [  7  14  21  28  35  42  49  56  63  70]\n",
      " [  8  16  24  32  40  48  56  64  72  80]\n",
      " [  9  18  27  36  45  54  63  72  81  90]\n",
      " [ 10  20  30  40  50  60  70  80  90 100]]\n",
      "The trace is  385\n",
      "anto-diagonal [10 18 24 28 30 30 28 24 18 10]\n",
      "diagonal offset by 1 upwards: [ 2  6 12 20 30 42 56 72 90]\n"
     ]
    }
   ],
   "source": [
    "u = np.arange(1, 11)\n",
    "mult10 = np.outer(u, u)\n",
    "\n",
    "print(mult10)\n",
    "print(\"The trace is \",np.trace(mult10))\n",
    "print(\"anto-diagonal\", np.diag(mult10[::-1]))  # mult10[::-1] flips the matrix horizontally, so the main diagonal becomes the anto-diagonal.\n",
    "print(\"diagonal offset by 1 upwards:\", np.diag(mult10, 1))  # feeding np.diag() a second argument k extracts the diagonal k units above the main diagonal (or below, if k <0)"
   ]
  },
  {
   "cell_type": "markdown",
   "metadata": {},
   "source": [
    "6\\. Use broadcasting to create a grid of distances\n",
    "\n",
    "Route 66 crosses the following cities in the US: Chicago, Springfield, Saint-Louis, Tulsa, Oklahoma City, Amarillo, Santa Fe, Albuquerque, Flagstaff, Los Angeles\n",
    "The corresponding positions in miles are: 0, 198, 303, 736, 871, 1175, 1475, 1544, 1913, 2448\n",
    "\n",
    "  * Construct a 2D grid of distances among each city along Route 66\n",
    "  * Convert that in km (those savages...)"
   ]
  },
  {
   "cell_type": "code",
   "execution_count": 217,
   "metadata": {},
   "outputs": [
    {
     "name": "stdout",
     "output_type": "stream",
     "text": [
      "[[    0  -198  -303  -736  -871 -1175 -1475 -1544 -1913 -2448]\n",
      " [  198     0  -105  -538  -673  -977 -1277 -1346 -1715 -2250]\n",
      " [  303   105     0  -433  -568  -872 -1172 -1241 -1610 -2145]\n",
      " [  736   538   433     0  -135  -439  -739  -808 -1177 -1712]\n",
      " [  871   673   568   135     0  -304  -604  -673 -1042 -1577]\n",
      " [ 1175   977   872   439   304     0  -300  -369  -738 -1273]\n",
      " [ 1475  1277  1172   739   604   300     0   -69  -438  -973]\n",
      " [ 1544  1346  1241   808   673   369    69     0  -369  -904]\n",
      " [ 1913  1715  1610  1177  1042   738   438   369     0  -535]\n",
      " [ 2448  2250  2145  1712  1577  1273   973   904   535     0]]\n"
     ]
    }
   ],
   "source": [
    "dumb_distances = np.array([0, 198, 303, 736, 871, 1175, 1475, 1544, 1913, 2448])\n",
    "distances = dumb_distances*8/5 # it's about that much in km\n",
    "\n",
    "# I was doing all the stuff in km's, but the output looks nicer with integers so I left it in miles\n",
    "\n",
    "#Anyway, Each row indicates where you're going, each column indicates where you are.\n",
    "\n",
    "# For example, if you're in column 1, you are in Chicago, and if you're in Column 1 row 3, you're in chicago and you're 303 miles away Saint-Louis.\n",
    "# On the other hand, if you're in column 4 row 2, you are in Tulsa, and Springfield is 538 miles behind you (hence the negative sign)\n",
    "\n",
    "dist_grid = np.tile(dumb_distances,(len(dumb_distances),1))\n",
    "dist_grid = dist_grid.T-dumb_distances\n",
    "print(dist_grid)\n",
    "\n",
    "#We could do abs() to eliminate the negative, but then we'd only have a symmetric matrix, and the sign gives us some information anyway.\n",
    "\n",
    "# This would have looked so much better using pandas."
   ]
  },
  {
   "cell_type": "markdown",
   "metadata": {},
   "source": [
    "7\\. Prime numbers sieve: compute the prime numbers in the 0-N (N=99 to start with) range with a sieve (mask).\n",
    "  * Constract a shape (100,) boolean array, the mask\n",
    "  * Identify the multiples of each number starting from 2 and set accordingly the corresponding mask element\n",
    "  * Apply the mask to obtain an array of ordered prime numbers\n",
    "  * Check the performances (timeit); how does it scale with N?\n",
    "  * Implement the optimization suggested in the [sieve of Eratosthenes](https://en.wikipedia.org/wiki/Sieve_of_Eratosthenes)"
   ]
  },
  {
   "cell_type": "code",
   "execution_count": 254,
   "metadata": {},
   "outputs": [
    {
     "data": {
      "text/plain": [
       "array([], dtype=int32)"
      ]
     },
     "execution_count": 254,
     "metadata": {},
     "output_type": "execute_result"
    }
   ],
   "source": [
    "N = 99\n",
    "sample = np.arange(2, N+1)\n",
    "\n",
    "for i in sample:\n",
    "    for j in range(sample):\n",
    "        sample_mask = sample % i == 0\n",
    "        sample = sample[sample_mask]\n",
    "        primes = sample\n",
    "primes"
   ]
  },
  {
   "cell_type": "code",
   "execution_count": 257,
   "metadata": {},
   "outputs": [
    {
     "name": "stdout",
     "output_type": "stream",
     "text": [
      "range(0, 10)\n"
     ]
    }
   ],
   "source": [
    "#sample_mask = np.logical_and(sample % (4) == 0, sample[4] == 5)\n",
    "#sample_mask\n",
    "\n",
    "print(range(10))"
   ]
  },
  {
   "cell_type": "markdown",
   "metadata": {},
   "source": [
    "8\\. Diffusion using random walk\n",
    "\n",
    "Consider a simple random walk process: at each step in time, a walker jumps right or left (+1 or -1) with equal probability. The goal is to find the typical distance from the origin of a random walker after a given amount of time. \n",
    "To do that, let's simulate many walkers and create a 2D array with each walker as a raw and the actual time evolution as columns\n",
    "\n",
    "  * Take 1000 walkers and let them walk for 200 steps\n",
    "  * Use randint to create a 2D array of size walkers x steps with values -1 or 1\n",
    "  * Build the actual walking distances for each walker (i.e. another 2D array \"summing on each raw\")\n",
    "  * Take the square of that 2D array (elementwise)\n",
    "  * Compute the mean of the squared distances at each step (i.e. the mean along the columns)\n",
    "  * Plot the average distances (sqrt(distance\\*\\*2)) as a function of time (step)\n",
    "  \n",
    "Did you get what you expected?"
   ]
  },
  {
   "cell_type": "markdown",
   "metadata": {},
   "source": [
    "9\\. Analyze a data file \n",
    "  * Download the population of hares, lynxes and carrots at the beginning of the last century.\n",
    "    ```python\n",
    "    ! wget https://www.dropbox.com/s/3vigxoqayo389uc/populations.txt\n",
    "    ```\n",
    "\n",
    "  * Check the content by looking within the file\n",
    "  * Load the data (use an appropriate numpy method) into a 2D array\n",
    "  * Create arrays out of the columns, the arrays being (in order): *year*, *hares*, *lynxes*, *carrots* \n",
    "  * Plot the 3 populations over the years\n",
    "  * Compute the main statistical properties of the dataset (mean, std, correlations, etc.)\n",
    "  * Which species has the highest population each year?\n",
    "\n",
    "Do you feel there is some evident correlation here? [Studies](https://www.enr.gov.nt.ca/en/services/lynx/lynx-snowshoe-hare-cycle) tend to believe so."
   ]
  },
  {
   "cell_type": "code",
   "execution_count": null,
   "metadata": {},
   "outputs": [],
   "source": []
  }
 ],
 "metadata": {
  "kernelspec": {
   "display_name": "Python 3",
   "language": "python",
   "name": "python3"
  },
  "language_info": {
   "codemirror_mode": {
    "name": "ipython",
    "version": 3
   },
   "file_extension": ".py",
   "mimetype": "text/x-python",
   "name": "python",
   "nbconvert_exporter": "python",
   "pygments_lexer": "ipython3",
   "version": "3.8.5"
  }
 },
 "nbformat": 4,
 "nbformat_minor": 2
}
